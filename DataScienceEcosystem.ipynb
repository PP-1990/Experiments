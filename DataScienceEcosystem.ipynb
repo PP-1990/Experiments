{
 "cells": [
  {
   "cell_type": "markdown",
   "id": "c678b514-7881-44c6-9c5e-5dd69530e594",
   "metadata": {},
   "source": [
    "# Data Science Tools and Ecosystem"
   ]
  },
  {
   "cell_type": "markdown",
   "id": "1c75b297-3d96-4ea2-8d93-72792304b308",
   "metadata": {},
   "source": [
    "In this notebook, Data Science Tools and Ecosystem are summarized."
   ]
  },
  {
   "cell_type": "markdown",
   "id": "12fcda6c-d113-4ca7-9ba7-13cac18fd378",
   "metadata": {},
   "source": [
    "**Objectives:**\n",
    "- Popular data science langugaes\n",
    "- Commonly used libraries by data scientists\n",
    "- Popular data science tools\n"
   ]
  },
  {
   "cell_type": "markdown",
   "id": "7fdb1418-b405-467f-81ce-30e1f91f3fab",
   "metadata": {},
   "source": [
    "Some of the popular languages that data scientists use are:\n",
    "* R\n",
    "* Python\n",
    "* SAS\n",
    "* SQL\n",
    "* MATLAB\n",
    "* Julia"
   ]
  },
  {
   "cell_type": "markdown",
   "id": "d26f61c7-faeb-4e9a-b6b0-5aa24da3df3f",
   "metadata": {},
   "source": [
    "Some of the commonly used libraries used by Data Scientists include:\n",
    "1. GGPLOT\n",
    "2. Plotly\n",
    "3. Caret\n",
    "4. Pandas\n",
    "5. Numpy\n",
    "6. SciKit Learn\n",
    "7. Tensor Flow\n",
    "8. BeautifulSoup"
   ]
  },
  {
   "cell_type": "markdown",
   "id": "f34cd3e0-e508-48c9-b7cc-f2655fb3f7c2",
   "metadata": {},
   "source": [
    "|Data Science Tools|\n",
    "|------------------|\n",
    "|RStudio|\n",
    "|Jupyter Labs|\n",
    "|Jupyter Notebooks|\n",
    "|GitHub|\n",
    "|Anaconda|\n",
    "|Spyder|\n",
    "|Visual Studio Code|"
   ]
  },
  {
   "cell_type": "markdown",
   "id": "d5f93a04-11f2-4bc7-b25a-37363aea35c9",
   "metadata": {},
   "source": [
    "### Below are a few examples of evaluating arithmetic expressions in Python"
   ]
  },
  {
   "cell_type": "code",
   "execution_count": 8,
   "id": "aba6f795-454f-43b8-b8fb-2eed7c1b7f23",
   "metadata": {},
   "outputs": [
    {
     "data": {
      "text/plain": [
       "17"
      ]
     },
     "execution_count": 8,
     "metadata": {},
     "output_type": "execute_result"
    }
   ],
   "source": [
    "# This a simple arithmetic expression to mutiply then add integers\n",
    "(3*4)+5"
   ]
  },
  {
   "cell_type": "code",
   "execution_count": 13,
   "id": "10ea10bf-a62c-4052-82e6-157c6ac1dfe8",
   "metadata": {},
   "outputs": [
    {
     "name": "stdout",
     "output_type": "stream",
     "text": [
      "3.3333333333333335 hrs\n"
     ]
    }
   ],
   "source": [
    "# This will convert 200 minutes to hours by diving by 60\n",
    "mins = 200\n",
    "convert = mins/60\n",
    "print(str(convert) + \" hrs\")"
   ]
  },
  {
   "cell_type": "markdown",
   "id": "1da67fe3-c958-4c9e-9dcd-1374efc3c239",
   "metadata": {},
   "source": [
    "## Author\n",
    "Pranay Panday"
   ]
  }
 ],
 "metadata": {
  "kernelspec": {
   "display_name": "Python 3 (ipykernel)",
   "language": "python",
   "name": "python3"
  },
  "language_info": {
   "codemirror_mode": {
    "name": "ipython",
    "version": 3
   },
   "file_extension": ".py",
   "mimetype": "text/x-python",
   "name": "python",
   "nbconvert_exporter": "python",
   "pygments_lexer": "ipython3",
   "version": "3.11.7"
  }
 },
 "nbformat": 4,
 "nbformat_minor": 5
}
